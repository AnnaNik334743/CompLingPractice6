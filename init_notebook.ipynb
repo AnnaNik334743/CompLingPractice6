{
  "nbformat": 4,
  "nbformat_minor": 0,
  "metadata": {
    "colab": {
      "provenance": [],
      "collapsed_sections": []
    },
    "kernelspec": {
      "name": "python3",
      "display_name": "Python 3"
    },
    "language_info": {
      "name": "python"
    }
  },
  "cells": [
    {
      "cell_type": "markdown",
      "source": [
        "# ТЗ"
      ],
      "metadata": {
        "id": "utjudNQqmliv"
      }
    },
    {
      "cell_type": "markdown",
      "source": [
        "Нужно создать бейзлайн модели для классификации текстов по функционально-смысловым типам речи. Три класса - повествование, описание, рассуждение. \n",
        "\n",
        "Подход почти что rule-based в силу отсутствия готового датасета и времени. В перспективе - собрать датасет, обучить нейронку и создать для всего этого дела интерфейс (веб или тг-бот)."
      ],
      "metadata": {
        "id": "jc5yk7kgnDlF"
      }
    },
    {
      "cell_type": "markdown",
      "source": [
        "**Повествование**\n",
        "\n",
        "Повествование как тип речи — это сообщение о действиях предмета в определенной последовательности.\n",
        "\n",
        "Композиционная структура повествования:\n",
        "\n",
        "* завязка (начало действия);\n",
        "* развитие действия;\n",
        "* кульминация (самый острый, интересный момент);\n",
        "* развязка (конец действия)\n",
        "\n",
        "Средства языкового оформления повествования:\n",
        "\n",
        "* преобладают глаголы и глагольные формы;\n",
        "* глаголы в форме прошедшего времени совершенного вида;\n",
        "* простые и составные глагольные сказуемые;\n",
        "* обстоятельства времени.\n"
      ],
      "metadata": {
        "id": "X3EIBiHIQgsm"
      }
    },
    {
      "cell_type": "markdown",
      "source": [
        "\n",
        "**Описание**\n",
        "\n",
        "Описание как тип речи — это сообщение об одновременных признаках предмета.\n",
        "\n",
        "Композиционная структура описания:\n",
        "\n",
        "* общее впечатление от предмета речи;\n",
        "* признаки предмета речи;\n",
        "* авторская оценка описываемого.\n",
        "Особенности языкового оформления описания\n",
        "\n",
        "В описании автор использует следующие языковые средства:\n",
        "\n",
        "* преобладают имена существительные и прилагательные;\n",
        "* глаголы в  форме настоящего времени несовершенного вида;\n",
        "* составные именные сказуемые;\n",
        "* обстоятельства места.\n"
      ],
      "metadata": {
        "id": "xmIesfXJraOK"
      }
    },
    {
      "cell_type": "markdown",
      "source": [
        "**Рассуждение**\n",
        "\n",
        "Рассуждение — тип речи, в котором исследуются предметы или явления, раскрываются их внутренние признаки. Рассуждением может стать словесное изложение, разъяснение и подтверждение какой-то мысли. Рассуждая, говорящий объясняет что-то, доказывает или опровергает с помощью аргументов свою точку зрения на предмет или явление действительности.\n",
        "\n",
        "Композиционная структура рассуждения:\n",
        "\n",
        "* тезис (основная мысль);\n",
        "* аргументы (доказательства или опровержение);\n",
        "* вывод.\n",
        "\n",
        "Языковые средства рассуждения:\n",
        "\n",
        "* преобладает абстрактная лексика;\n",
        "* имеются вводные слова;\n",
        "* используются обстоятельства цели, причины, следствия, уступки;\n",
        "* сложноподчиненные предложения с придаточными причины, цели, следствия, уступки.\n"
      ],
      "metadata": {
        "id": "Ipdf-vadrb7I"
      }
    },
    {
      "cell_type": "markdown",
      "source": [
        "Источники:\n",
        "\n",
        "https://russkiiyazyk.ru/sintaksis/tipy-rechi.html\n",
        "\n",
        "https://srcaltufevo.ru/tip-rechi-v-kotorom-tip-rechi-opisanie-povestvovanie-rassuzhdenie-tip.html "
      ],
      "metadata": {
        "id": "8D8JOxiOXqGd"
      }
    },
    {
      "cell_type": "markdown",
      "source": [
        "# Парсинг решуегэ"
      ],
      "metadata": {
        "id": "hwFC31a0TX4y"
      }
    },
    {
      "cell_type": "markdown",
      "source": [
        "В ЕГЭ по русскому языку присутствует задание на ФСТР (функционально-смысловые типы речи). Задание относится к тестовым и в 2022 году фигурирует под номером 23. В нем требуется прочитать текст с пронумерованными предложениями и ответить на 5 вопросов (либо отметить верные, либо отметить ошибочные утверждения). \n",
        "\n",
        "Среди вопросов встречаются вопросы типа \"В предложениях 3—7 представлено рассуждение\". Именно подобный тип парсится для данной задачи.\n",
        "\n",
        "Сайт: https://rus-ege.sdamgia.ru/"
      ],
      "metadata": {
        "id": "z0YOOXd-Yr2u"
      }
    },
    {
      "cell_type": "code",
      "source": [
        "def invert(num: str, total: int=5):\n",
        "    \"\"\"Если в условии присутствует \"найти ошибочные пункты\",\n",
        "    то нужно инвертировать ответ\"\"\"\n",
        "    output = ''\n",
        "    for n in range(1, total+1):\n",
        "        if not str(n) in num:\n",
        "            output += str(n)\n",
        "    return output\n",
        "\n",
        "\n",
        "def correct_questions(questions: tp.List[str], answers_num: str, total: int=5):\n",
        "    \"\"\"Выделение из общего списка вопросов, на которые дан \n",
        "    положительный ответ\"\"\"\n",
        "    correct = []\n",
        "    for num in answers_num:\n",
        "        num = int(num)\n",
        "        if num < total:\n",
        "            correct.append(re.search(f\"{num}\\)(.*){num+1}\\)\", questions)[1].lower())\n",
        "        else:\n",
        "            correct.append(re.search(f\"{num}\\)(.*)\", questions)[1].lower())\n",
        "    return correct\n",
        "\n",
        "\n",
        "def get_sentence_numbers(sentence: str):\n",
        "    \"\"\"Выделение из ответов интервалов/отдельных предложений как чисел\"\"\"\n",
        "    lst = set()\n",
        "    intervals = re.findall(r'\\d+–\\d+', sentence)\n",
        "    for interval in intervals:\n",
        "        start, end = interval.split('–')\n",
        "        for i in range(int(start), int(end)+1):\n",
        "            lst.add(i)\n",
        "    alone = re.findall(r'\\d+', sentence)\n",
        "    for al in alone:\n",
        "        lst.add(int(al))\n",
        "    return sorted(list(lst))\n",
        "\n",
        "\n",
        "def get_sentence(sent_num: int, text: str):\n",
        "    \"\"\"Выделение из общего текста предложений под определенными номерами\"\"\"\n",
        "    try:\n",
        "        sentence = re.search(f\"\\({sent_num}\\)(.*)\\({sent_num+1}\\)\", text)[1]\n",
        "    except TypeError:\n",
        "        sentence = re.search(f\"\\({sent_num}\\)(.*)\\(\\D\", text)[1]\n",
        "    return sentence"
      ],
      "metadata": {
        "id": "N5fA0SD2TX5B"
      },
      "execution_count": null,
      "outputs": []
    },
    {
      "cell_type": "code",
      "source": [
        "website = 'https://rus-ege.sdamgia.ru'\n",
        "problem_links = []\n",
        "\n",
        "for theme in [230, 313, 283]:  # все доступные 23-и задания на поиск ФСТР\n",
        "    page = requests.get(website + f'/test?theme={theme}&print=true')\n",
        "    soup = BeautifulSoup(page.text, 'html.parser')\n",
        "    for found in soup.findAll('span', {'class': 'prob_nums'}):\n",
        "        problem_links.append(found.a['href'])"
      ],
      "metadata": {
        "id": "1VxinBopTX5B"
      },
      "execution_count": null,
      "outputs": []
    },
    {
      "cell_type": "code",
      "source": [
        "pov = []\n",
        "op = []\n",
        "ras = []\n",
        "\n",
        "for problem_link in problem_links:\n",
        "\n",
        "    try: # несмотря на то, что задания максимально унифицированы, иногда бывают приколы\n",
        "        task_link = website + problem_link\n",
        "        task_page = requests.get(task_link)\n",
        "        task_soup = BeautifulSoup(task_page.text, 'html.parser')\n",
        "\n",
        "        id = re.search(r'problem\\?id=(.*)', task_link)[1]\n",
        "\n",
        "        questions = task_soup.find('div', {'align': 'justify', 'class': 'pbody'}).text\n",
        "        questions = questions.replace('\\u202f', '').replace('\\xa0', '')\n",
        "\n",
        "        paragraphs = task_soup.findAll('div', {'id': f'text{id}'})[0]\n",
        "        text = paragraphs.text\n",
        "        text = text.replace('\\u202f', '').replace('\\xa0', '')\n",
        "\n",
        "        answers = task_soup.findAll('div', {'id': f'sol{id}'})[0].text\n",
        "        answers_num = re.search(r'Ответ:(.*)', answers)[1].split('|')[0]\n",
        "        answers_num = ''.join(list(filter(lambda s: s.isdigit(), answers_num)))\n",
        "\n",
        "        init_question = questions.split('?')[0].lower()\n",
        "        if 'неверными' in init_question or 'ошибочными' in init_question or ' не ' in init_question:\n",
        "            answers_num = invert(answers_num)\n",
        "\n",
        "        questions_with_yes = correct_questions(questions, answers_num)\n",
        "\n",
        "        for question in questions_with_yes:\n",
        "            for item in ['не ', 'нет', 'неверно', 'неправильно', 'некорректно', 'ошибочно', 'элементами']:\n",
        "                if question.find(item) != -1:\n",
        "                    break\n",
        "            else:\n",
        "                sentence_numbers = get_sentence_numbers(question)\n",
        "                new_text = []\n",
        "                for sent_num in sentence_numbers:\n",
        "                    new_text.append(get_sentence(sent_num, text).strip())\n",
        "                new_text = ' '.join(new_text)\n",
        "\n",
        "                if question.find('повествование') != -1:\n",
        "                    pov.append(new_text)\n",
        "                elif question.find('описание') != -1:\n",
        "                    op.append(new_text)\n",
        "                elif question.find('рассуждение') != -1:\n",
        "                    ras.append(new_text)\n",
        "\n",
        "    except TypeError:\n",
        "        continue"
      ],
      "metadata": {
        "id": "O1pYYWfNTX5C"
      },
      "execution_count": null,
      "outputs": []
    },
    {
      "cell_type": "code",
      "source": [
        "# запись полученных данных в файл\n",
        "\n",
        "with open('ege23task.txt', 'w') as file:\n",
        "    file.write('ПОВЕСТВОВАНИЕ\\n\\n')\n",
        "    file.write('\\n\\n'.join(pov))\n",
        "    file.write('\\n\\nОПИСАНИЕ\\n\\n')\n",
        "    file.write('\\n\\n'.join(op))\n",
        "    file.write('\\n\\nРАССУЖДЕНИЕ\\n\\n')\n",
        "    file.write('\\n\\n'.join(ras))"
      ],
      "metadata": {
        "id": "9kaL1BmPTX5C"
      },
      "execution_count": null,
      "outputs": []
    },
    {
      "cell_type": "markdown",
      "source": [
        "# Основной код"
      ],
      "metadata": {
        "id": "rn5y35QxuvlE"
      }
    },
    {
      "cell_type": "code",
      "source": [
        "# установка библиотек\n",
        "\n",
        "%%capture\n",
        "! pip install razdel navec pymystem3==0.1.10 # по какой-то странной причине яндесовский лемматизатор других версий не совместим с колабом "
      ],
      "metadata": {
        "id": "JRetmjvMxOLq"
      },
      "execution_count": 1,
      "outputs": []
    },
    {
      "cell_type": "code",
      "source": [
        "# импорты\n",
        "\n",
        "import pickle\n",
        "import typing as tp\n",
        "import json\n",
        "from pymystem3 import Mystem\n",
        "from razdel import sentenize\n",
        "from navec import Navec\n",
        "import re\n",
        "import pandas as pd\n",
        "import numpy as np\n",
        "import seaborn as sns\n",
        "import matplotlib.pyplot as plt\n",
        "from sklearn.metrics import classification_report, confusion_matrix\n",
        "from sklearn.model_selection import train_test_split\n",
        "from sklearn.linear_model import LogisticRegression\n",
        "from sklearn.svm import SVC\n",
        "from bs4 import BeautifulSoup\n",
        "import requests\n",
        "\n",
        "sns.set()"
      ],
      "metadata": {
        "id": "zGsSbPAfx5bQ"
      },
      "execution_count": 2,
      "outputs": []
    },
    {
      "cell_type": "code",
      "source": [
        "# подклучение гугл-диска\n",
        "\n",
        "from google.colab import drive \n",
        "drive.mount('/content/drive')"
      ],
      "metadata": {
        "colab": {
          "base_uri": "https://localhost:8080/"
        },
        "id": "paRAEQxBuxZV",
        "outputId": "5e88019a-a08c-4c6d-eca5-db9d6ffeebf3"
      },
      "execution_count": 21,
      "outputs": [
        {
          "output_type": "stream",
          "name": "stdout",
          "text": [
            "Mounted at /content/drive\n"
          ]
        }
      ]
    },
    {
      "cell_type": "code",
      "source": [
        "# загрузка предобученого word2vec-а\n",
        "\n",
        "%%capture\n",
        "!wget https://storage.yandexcloud.net/natasha-navec/packs/navec_hudlit_v1_12B_500K_300d_100q.tar"
      ],
      "metadata": {
        "id": "O6GoCwvjUwgG"
      },
      "execution_count": 22,
      "outputs": []
    },
    {
      "cell_type": "code",
      "source": [
        "path = 'navec_hudlit_v1_12B_500K_300d_100q.tar'\n",
        "navec = Navec.load(path)"
      ],
      "metadata": {
        "id": "TQCid42IU39M"
      },
      "execution_count": 23,
      "outputs": []
    },
    {
      "cell_type": "code",
      "source": [
        "# вспомогательные функции\n",
        "\n",
        "def remove_empty_sents(text: tp.List[str]) -> tp.List[str]:\n",
        "    \"\"\"Удаление пустых строк из списка, содержащего строки,\n",
        "    а также лишних пробелов в начале и конце строк\"\"\"\n",
        "    fltr = filter(lambda t: len(t) != 0, text)\n",
        "    mp = map(lambda t: t.strip(), list(fltr))\n",
        "    return list(mp)\n",
        "\n",
        "\n",
        "def sentence_tokenize(text: str) -> tp.List[str]:\n",
        "    \"\"\"Разделение исходного текста на отдельные предложения\"\"\"\n",
        "    output = []\n",
        "    for item in list(sentenize(text)):\n",
        "        output.append(item.text)\n",
        "    return output\n",
        "\n",
        "\n",
        "def report(test, pred):  \n",
        "    \"\"\"Визуализация матрицы ошибок и вывод основных метрик. \n",
        "    Строки - истинные значения, столбцы - предсказанные\"\"\"\n",
        "    print(classification_report(test, pred))\n",
        "    cm = confusion_matrix(test, pred)\n",
        "    df_cm = pd.DataFrame(cm, index=[\"ОПИСАНИЕ\", \"ПОВЕСТВОВАНИЕ\", \"РАССУЖДЕНИЕ\"],\n",
        "                         columns=[\"ОПИСАНИЕ\", \"ПОВЕСТВОВАНИЕ\", \"РАССУЖДЕНИЕ\"])\n",
        "    plt.figure(figsize = (7, 5))\n",
        "    plt.title(\"Confusion matrix\")\n",
        "    ax = sns.heatmap(df_cm, annot=True, cmap=\"Greens\", fmt='g')\n",
        "    plt.show()"
      ],
      "metadata": {
        "id": "VkemRSa6xzpK"
      },
      "execution_count": 24,
      "outputs": []
    },
    {
      "cell_type": "markdown",
      "source": [
        "**Струкура файла с данными**. Тексты разделены двумя enter-ами.\n",
        "\n",
        "ПОВЕСТВОВАНИЕ\n",
        "\n",
        "...тексты...\n",
        "\n",
        "ОПИСАНИЕ\n",
        "\n",
        "...тексты...\n",
        "\n",
        "РАССУЖДЕНИЕ\n",
        "\n",
        "...тексты..."
      ],
      "metadata": {
        "id": "jFjb3JzAeUqR"
      }
    },
    {
      "cell_type": "code",
      "source": [
        "# чтение данных\n",
        "\n",
        "with open('/content/drive/MyDrive/Вузовское/CompLing/ege23task.txt') as file:\n",
        "    content = file.read()"
      ],
      "metadata": {
        "id": "7UZcVsumuxbj"
      },
      "execution_count": 25,
      "outputs": []
    },
    {
      "cell_type": "code",
      "source": [
        "breakpoints = [content.find('ПОВЕСТВОВАНИЕ'), content.find('ОПИСАНИЕ'), content.find('РАССУЖДЕНИЕ')]"
      ],
      "metadata": {
        "id": "GbRujbrEuxdu"
      },
      "execution_count": 26,
      "outputs": []
    },
    {
      "cell_type": "code",
      "source": [
        "type_texts = {'ПОВЕСТВОВАНИЕ': remove_empty_sents(content[breakpoints[0] + len('ПОВЕСТВОВАНИЕ'):breakpoints[1]].split('\\n\\n')), \n",
        "              'ОПИСАНИЕ': remove_empty_sents(content[breakpoints[1] + len('ОПИСАНИЕ'):breakpoints[2]].split('\\n\\n')), \n",
        "              'РАССУЖДЕНИЕ': remove_empty_sents(content[breakpoints[2] + len('РАССУЖДЕНИЕ'):].split('\\n\\n'))}"
      ],
      "metadata": {
        "id": "syd5wb_EuxhJ"
      },
      "execution_count": 27,
      "outputs": []
    },
    {
      "cell_type": "markdown",
      "source": [
        "Каждый текст преобразуется в вектор. Вектор состоит из двух частей - \"статистического вектора\" и \"смыслового вектора\". \n",
        "\n",
        "Статистический вектор усредняется путем деления на свою длину и содержит в себе информацию о:\n",
        "* количестве различных частей речи. Для глаголов также указывается их время (если определено), а для союзов - тип\n",
        "* количество редких слов\n",
        "* количество вводных слов\n",
        "* количество различных знаков препенания, использующихся в качестве окончания предложений\n",
        "\n",
        "Смысловой вектор содержит в себе сумму значений из предобученного word2vec (navec на 500К слов из проекта natasha) по всем словам, которые несут смысловую информацию, т.е. знаки препинания сюда не входят. Вектор усредняется путем деления на кол-во слагаемых, составляющих его."
      ],
      "metadata": {
        "id": "RH6CpPeR9VxE"
      }
    },
    {
      "cell_type": "code",
      "source": [
        "# https://yandex.ru/dev/mystem/doc/grammemes-values.html\n",
        "\n",
        "possible_tags = ['ADVPRO',\t# местоименное наречие\n",
        "                 'ANUM',\t# числительное-прилагательное\n",
        "                 'APRO',\t# местоимение-прилагательное\n",
        "                 'ADV', # наречие\n",
        "                 'PART', #\tчастица\n",
        "                 'A',\t# прилагательное\n",
        "                 'SPRO',\t# местоимение-существительное\n",
        "                 'CONJ',\t# союз\n",
        "                 'INTJ', # междометие\n",
        "                 'COM',\t# часть композита - сложного слова\n",
        "                 'NUM',\t# числительное\n",
        "                 'PR', #\tпредлог\n",
        "                  'S', # существительное\n",
        "                  'V'] # глагол\n",
        "\n",
        "verb_time = ['наст', # настоящее\n",
        "             'непрош',\t# будущее\n",
        "             'прош']\t# прошедшее\n",
        "             \n",
        "rare = 'редк'\n",
        "parenth = 'вводн'\n",
        "\n",
        "# список далеко не полный, но хоть что-то\n",
        "s_conjs = ['и', 'да', 'a', 'но', 'тоже', 'также', 'или', 'либо', 'зато', 'однако'] \n",
        "p_conjs = ['что', 'чтобы', 'как', 'когда', 'ибо', 'пока', 'будто', 'словно', \n",
        "           'если', 'кто', 'который', 'какой', 'где', 'куда', 'откуда']\n",
        "\n",
        "punct = ['.', '!', '?', '...', '?..', '!..']\n",
        "\n",
        "colnames = {el:i for i, el in enumerate(['ADVPRO', 'ANUM', 'APRO', 'ADV', 'PART', \n",
        "                                           'A', 'SPRO', 'CONJ_S', 'CONJ_P', 'INTJ', \n",
        "                                         'COM', 'NUM', 'PR', 'S', 'V', 'V_наст', 'V_непрош', \n",
        "                                         'V_прош', 'редк', 'вводн', '.', '!', '?', \n",
        "                                         '...', '?..', '!..'])}"
      ],
      "metadata": {
        "id": "aPAX-bjd77Mi"
      },
      "execution_count": 28,
      "outputs": []
    },
    {
      "cell_type": "code",
      "source": [
        "mystem = Mystem()\n",
        "    \n",
        "def text2vec(text: str='', return_lemmatized: bool=False):\n",
        "    \"\"\"Переводит текст (предложение) в вектор. Использует в\n",
        "    работе глобальные переменные из предыдущей ячейки\"\"\"\n",
        "\n",
        "    analysis = mystem.analyze(text)\n",
        "    stats_vec = np.zeros(len(colnames))\n",
        "    word2vec_vec = np.zeros(300)\n",
        "    n_word2vec = 0\n",
        "    norm_text = []\n",
        "\n",
        "    for item in analysis:\n",
        "        word = item['text'].lower()\n",
        "        try:\n",
        "            analysis = item['analysis'][0]\n",
        "        except KeyError:\n",
        "            analysis = None\n",
        "\n",
        "        if analysis is not None:\n",
        "            word2vec_vec += navec[word] if word in navec else navec['<unk>']\n",
        "            n_word2vec += 1\n",
        "\n",
        "            norm_form = analysis['lex']  # нормальная форма\n",
        "            norm_text.append(norm_form)\n",
        "            grammar = analysis['gr']  # морфология\n",
        "            for tos in possible_tags:\n",
        "                if grammar.find(rare) != -1:\n",
        "                    stats_vec[colnames[rare]] += 1\n",
        "                if grammar.find(parenth) != -1:\n",
        "                    stats_vec[colnames[parenth]] += 1\n",
        "                if grammar.find(tos) != -1:\n",
        "                    if tos == 'V':\n",
        "                        for tm in verb_time:\n",
        "                            if grammar.find(tm) != -1:\n",
        "                                stats_vec[colnames[f'V_{tm}']] += 1\n",
        "                                break\n",
        "                        else:\n",
        "                            stats_vec[colnames[tos]] += 1\n",
        "                    elif tos == 'CONJ':\n",
        "                        if item['text'].lower() in s_conjs:\n",
        "                            stats_vec[colnames['CONJ_S']] += 1\n",
        "                        else: \n",
        "                            stats_vec[colnames['CONJ_P']] += 1\n",
        "                    else:\n",
        "                        stats_vec[colnames[tos]] += 1\n",
        "                    break\n",
        "\n",
        "    stats_vec /= len(stats_vec)  # нормализация векторов\n",
        "    word2vec_vec = word2vec_vec / n_word2vec if n_word2vec != 0 else word2vec_vec\n",
        "\n",
        "    vec = np.hstack((stats_vec, word2vec_vec))  # объединение \"статистического\" и \"смыслового\" векторов\n",
        "\n",
        "    if return_lemmatized:\n",
        "        return vec, ' '.join(norm_text)\n",
        "    return vec"
      ],
      "metadata": {
        "id": "ZeBtFcOjG4_S",
        "colab": {
          "base_uri": "https://localhost:8080/"
        },
        "outputId": "fb66bac0-07d5-4920-b5e6-e674857f990d"
      },
      "execution_count": 29,
      "outputs": [
        {
          "output_type": "stream",
          "name": "stderr",
          "text": [
            "Installing mystem to /root/.local/bin/mystem from http://download.cdn.yandex.net/mystem/mystem-3.0-linux3.1-64bit.tar.gz\n"
          ]
        }
      ]
    },
    {
      "cell_type": "code",
      "source": [
        "text_types = []\n",
        "sentences = []\n",
        "for key, texts in type_texts.items():\n",
        "    for text in texts:\n",
        "        # new_ones = sentence_tokenize(text) - это, если мы хотим обучаться только на предложениях, а не текстах\n",
        "        new_ones = [text]\n",
        "        sentences.extend(new_ones)\n",
        "        text_types.extend([key] * len(new_ones))\n",
        "\n",
        "data = pd.DataFrame({'text': sentences, 'text_type': text_types})\n",
        "data['vector'] = data['text'].apply(text2vec)\n",
        "data.head()"
      ],
      "metadata": {
        "id": "0q33RAJmFfZ_",
        "colab": {
          "base_uri": "https://localhost:8080/",
          "height": 206
        },
        "outputId": "60fbd252-74be-40f9-9e12-b991caef3494"
      },
      "execution_count": 30,
      "outputs": [
        {
          "output_type": "execute_result",
          "data": {
            "text/plain": [
              "                                                text      text_type  \\\n",
              "0  В 1902 году царское правительство аннулировало...  ПОВЕСТВОВАНИЕ   \n",
              "1  ...Прошло много лет. И вдруг в доме, расположе...  ПОВЕСТВОВАНИЕ   \n",
              "2  Давно прозвучали эти слова, и вот недавно в од...  ПОВЕСТВОВАНИЕ   \n",
              "3  Я погладил его пушистую головку, и малыш довер...  ПОВЕСТВОВАНИЕ   \n",
              "4  Он уже слышал, что Маршак еле жив, что врачи б...  ПОВЕСТВОВАНИЕ   \n",
              "\n",
              "                                              vector  \n",
              "0  [0.0, 0.0, 0.0, 0.0, 0.0, 0.07692307692307693,...  \n",
              "1  [0.0, 0.0, 0.0, 0.07692307692307693, 0.0, 0.0,...  \n",
              "2  [0.0, 0.0, 0.07692307692307693, 0.076923076923...  \n",
              "3  [0.0, 0.0, 0.0, 0.0, 0.0, 0.11538461538461539,...  \n",
              "4  [0.0, 0.0, 0.038461538461538464, 0.07692307692...  "
            ],
            "text/html": [
              "\n",
              "  <div id=\"df-00ff858e-9457-43e0-89d7-1e9e4de4becc\">\n",
              "    <div class=\"colab-df-container\">\n",
              "      <div>\n",
              "<style scoped>\n",
              "    .dataframe tbody tr th:only-of-type {\n",
              "        vertical-align: middle;\n",
              "    }\n",
              "\n",
              "    .dataframe tbody tr th {\n",
              "        vertical-align: top;\n",
              "    }\n",
              "\n",
              "    .dataframe thead th {\n",
              "        text-align: right;\n",
              "    }\n",
              "</style>\n",
              "<table border=\"1\" class=\"dataframe\">\n",
              "  <thead>\n",
              "    <tr style=\"text-align: right;\">\n",
              "      <th></th>\n",
              "      <th>text</th>\n",
              "      <th>text_type</th>\n",
              "      <th>vector</th>\n",
              "    </tr>\n",
              "  </thead>\n",
              "  <tbody>\n",
              "    <tr>\n",
              "      <th>0</th>\n",
              "      <td>В 1902 году царское правительство аннулировало...</td>\n",
              "      <td>ПОВЕСТВОВАНИЕ</td>\n",
              "      <td>[0.0, 0.0, 0.0, 0.0, 0.0, 0.07692307692307693,...</td>\n",
              "    </tr>\n",
              "    <tr>\n",
              "      <th>1</th>\n",
              "      <td>...Прошло много лет. И вдруг в доме, расположе...</td>\n",
              "      <td>ПОВЕСТВОВАНИЕ</td>\n",
              "      <td>[0.0, 0.0, 0.0, 0.07692307692307693, 0.0, 0.0,...</td>\n",
              "    </tr>\n",
              "    <tr>\n",
              "      <th>2</th>\n",
              "      <td>Давно прозвучали эти слова, и вот недавно в од...</td>\n",
              "      <td>ПОВЕСТВОВАНИЕ</td>\n",
              "      <td>[0.0, 0.0, 0.07692307692307693, 0.076923076923...</td>\n",
              "    </tr>\n",
              "    <tr>\n",
              "      <th>3</th>\n",
              "      <td>Я погладил его пушистую головку, и малыш довер...</td>\n",
              "      <td>ПОВЕСТВОВАНИЕ</td>\n",
              "      <td>[0.0, 0.0, 0.0, 0.0, 0.0, 0.11538461538461539,...</td>\n",
              "    </tr>\n",
              "    <tr>\n",
              "      <th>4</th>\n",
              "      <td>Он уже слышал, что Маршак еле жив, что врачи б...</td>\n",
              "      <td>ПОВЕСТВОВАНИЕ</td>\n",
              "      <td>[0.0, 0.0, 0.038461538461538464, 0.07692307692...</td>\n",
              "    </tr>\n",
              "  </tbody>\n",
              "</table>\n",
              "</div>\n",
              "      <button class=\"colab-df-convert\" onclick=\"convertToInteractive('df-00ff858e-9457-43e0-89d7-1e9e4de4becc')\"\n",
              "              title=\"Convert this dataframe to an interactive table.\"\n",
              "              style=\"display:none;\">\n",
              "        \n",
              "  <svg xmlns=\"http://www.w3.org/2000/svg\" height=\"24px\"viewBox=\"0 0 24 24\"\n",
              "       width=\"24px\">\n",
              "    <path d=\"M0 0h24v24H0V0z\" fill=\"none\"/>\n",
              "    <path d=\"M18.56 5.44l.94 2.06.94-2.06 2.06-.94-2.06-.94-.94-2.06-.94 2.06-2.06.94zm-11 1L8.5 8.5l.94-2.06 2.06-.94-2.06-.94L8.5 2.5l-.94 2.06-2.06.94zm10 10l.94 2.06.94-2.06 2.06-.94-2.06-.94-.94-2.06-.94 2.06-2.06.94z\"/><path d=\"M17.41 7.96l-1.37-1.37c-.4-.4-.92-.59-1.43-.59-.52 0-1.04.2-1.43.59L10.3 9.45l-7.72 7.72c-.78.78-.78 2.05 0 2.83L4 21.41c.39.39.9.59 1.41.59.51 0 1.02-.2 1.41-.59l7.78-7.78 2.81-2.81c.8-.78.8-2.07 0-2.86zM5.41 20L4 18.59l7.72-7.72 1.47 1.35L5.41 20z\"/>\n",
              "  </svg>\n",
              "      </button>\n",
              "      \n",
              "  <style>\n",
              "    .colab-df-container {\n",
              "      display:flex;\n",
              "      flex-wrap:wrap;\n",
              "      gap: 12px;\n",
              "    }\n",
              "\n",
              "    .colab-df-convert {\n",
              "      background-color: #E8F0FE;\n",
              "      border: none;\n",
              "      border-radius: 50%;\n",
              "      cursor: pointer;\n",
              "      display: none;\n",
              "      fill: #1967D2;\n",
              "      height: 32px;\n",
              "      padding: 0 0 0 0;\n",
              "      width: 32px;\n",
              "    }\n",
              "\n",
              "    .colab-df-convert:hover {\n",
              "      background-color: #E2EBFA;\n",
              "      box-shadow: 0px 1px 2px rgba(60, 64, 67, 0.3), 0px 1px 3px 1px rgba(60, 64, 67, 0.15);\n",
              "      fill: #174EA6;\n",
              "    }\n",
              "\n",
              "    [theme=dark] .colab-df-convert {\n",
              "      background-color: #3B4455;\n",
              "      fill: #D2E3FC;\n",
              "    }\n",
              "\n",
              "    [theme=dark] .colab-df-convert:hover {\n",
              "      background-color: #434B5C;\n",
              "      box-shadow: 0px 1px 3px 1px rgba(0, 0, 0, 0.15);\n",
              "      filter: drop-shadow(0px 1px 2px rgba(0, 0, 0, 0.3));\n",
              "      fill: #FFFFFF;\n",
              "    }\n",
              "  </style>\n",
              "\n",
              "      <script>\n",
              "        const buttonEl =\n",
              "          document.querySelector('#df-00ff858e-9457-43e0-89d7-1e9e4de4becc button.colab-df-convert');\n",
              "        buttonEl.style.display =\n",
              "          google.colab.kernel.accessAllowed ? 'block' : 'none';\n",
              "\n",
              "        async function convertToInteractive(key) {\n",
              "          const element = document.querySelector('#df-00ff858e-9457-43e0-89d7-1e9e4de4becc');\n",
              "          const dataTable =\n",
              "            await google.colab.kernel.invokeFunction('convertToInteractive',\n",
              "                                                     [key], {});\n",
              "          if (!dataTable) return;\n",
              "\n",
              "          const docLinkHtml = 'Like what you see? Visit the ' +\n",
              "            '<a target=\"_blank\" href=https://colab.research.google.com/notebooks/data_table.ipynb>data table notebook</a>'\n",
              "            + ' to learn more about interactive tables.';\n",
              "          element.innerHTML = '';\n",
              "          dataTable['output_type'] = 'display_data';\n",
              "          await google.colab.output.renderOutput(dataTable, element);\n",
              "          const docLink = document.createElement('div');\n",
              "          docLink.innerHTML = docLinkHtml;\n",
              "          element.appendChild(docLink);\n",
              "        }\n",
              "      </script>\n",
              "    </div>\n",
              "  </div>\n",
              "  "
            ]
          },
          "metadata": {},
          "execution_count": 30
        }
      ]
    },
    {
      "cell_type": "code",
      "source": [
        "# количество текстов по классам\n",
        "\n",
        "fig = plt.figure(figsize=(6, 6))\n",
        "sns.countplot(data=data, x='text_type')"
      ],
      "metadata": {
        "id": "5U-P9EzC7WTP",
        "colab": {
          "base_uri": "https://localhost:8080/",
          "height": 411
        },
        "outputId": "b8a0dd38-caa4-42ba-db8f-5f4f5648bffc"
      },
      "execution_count": 31,
      "outputs": [
        {
          "output_type": "execute_result",
          "data": {
            "text/plain": [
              "<matplotlib.axes._subplots.AxesSubplot at 0x7f605dbbba50>"
            ]
          },
          "metadata": {},
          "execution_count": 31
        },
        {
          "output_type": "display_data",
          "data": {
            "text/plain": [
              "<Figure size 432x432 with 1 Axes>"
            ],
            "image/png": "[encoded data removed]"
          },
          "metadata": {}
        }
      ]
    },
    {
      "cell_type": "code",
      "source": [
        "# разбиение данных на train-test\n",
        "\n",
        "x_train, x_test, y_train, y_test = train_test_split(data.vector, data.text_type, train_size=0.8, random_state=42)\n",
        "x_train, x_test = list(x_train), list(x_test)"
      ],
      "metadata": {
        "id": "Wpk2vOEcyByL"
      },
      "execution_count": 33,
      "outputs": []
    },
    {
      "cell_type": "code",
      "source": [
        "# логистическая регрессия \n",
        "\n",
        "clf = LogisticRegression(tol=10**-6, max_iter=10000, C=1e5, multi_class='ovr')  \n",
        "clf.fit(x_train, y_train)\n",
        "y_pred = clf.predict(x_test)\n",
        "report(y_test, y_pred)"
      ],
      "metadata": {
        "colab": {
          "base_uri": "https://localhost:8080/",
          "height": 512
        },
        "id": "pjvMhvZczi3t",
        "outputId": "c5823d30-367c-4080-f5d6-774f315eeac3"
      },
      "execution_count": 34,
      "outputs": [
        {
          "output_type": "stream",
          "name": "stdout",
          "text": [
            "               precision    recall  f1-score   support\n",
            "\n",
            "     ОПИСАНИЕ       0.92      0.86      0.89        14\n",
            "ПОВЕСТВОВАНИЕ       0.96      0.93      0.94        27\n",
            "  РАССУЖДЕНИЕ       0.89      0.94      0.91        34\n",
            "\n",
            "     accuracy                           0.92        75\n",
            "    macro avg       0.92      0.91      0.92        75\n",
            " weighted avg       0.92      0.92      0.92        75\n",
            "\n"
          ]
        },
        {
          "output_type": "display_data",
          "data": {
            "text/plain": [
              "<Figure size 504x360 with 2 Axes>"
            ],
            "image/png": "[encoded data removed]"
          },
          "metadata": {}
        }
      ]
    },
    {
      "cell_type": "code",
      "source": [
        "# метод опорных векторов\n",
        "\n",
        "clf = SVC(tol=10**-6, kernel='linear', C=1e5, probability=True) \n",
        "clf.fit(x_train, y_train)\n",
        "y_pred = clf.predict(x_test)\n",
        "report(y_test, y_pred)"
      ],
      "metadata": {
        "colab": {
          "base_uri": "https://localhost:8080/",
          "height": 512
        },
        "id": "JNTOJlxdi6TA",
        "outputId": "96f9fb0c-f251-4056-9115-f82fffc5d370"
      },
      "execution_count": 35,
      "outputs": [
        {
          "output_type": "stream",
          "name": "stdout",
          "text": [
            "               precision    recall  f1-score   support\n",
            "\n",
            "     ОПИСАНИЕ       0.75      0.86      0.80        14\n",
            "ПОВЕСТВОВАНИЕ       0.92      0.89      0.91        27\n",
            "  РАССУЖДЕНИЕ       0.94      0.91      0.93        34\n",
            "\n",
            "     accuracy                           0.89        75\n",
            "    macro avg       0.87      0.89      0.88        75\n",
            " weighted avg       0.90      0.89      0.89        75\n",
            "\n"
          ]
        },
        {
          "output_type": "display_data",
          "data": {
            "text/plain": [
              "<Figure size 504x360 with 2 Axes>"
            ],
            "image/png": "[encoded data removed]"
          },
          "metadata": {}
        }
      ]
    },
    {
      "cell_type": "markdown",
      "source": [
        "# Итог"
      ],
      "metadata": {
        "id": "-qaRnwMOi20f"
      }
    },
    {
      "cell_type": "code",
      "source": [
        "# лучший классификатор, который получился на текущий момент\n",
        "\n",
        "model = LogisticRegression(tol=10**-6, max_iter=10000, C=1e5, multi_class='ovr')  \n",
        "model.fit(x_train, y_train)\n",
        "pickle.dump(model, open('best_model', 'wb'))"
      ],
      "metadata": {
        "id": "W3qUm3TNUNMh"
      },
      "execution_count": 43,
      "outputs": []
    },
    {
      "cell_type": "code",
      "source": [
        "clf = pickle.load(open('best_model', 'rb'))"
      ],
      "metadata": {
        "id": "Eh7H-FphYlD5"
      },
      "execution_count": 44,
      "outputs": []
    },
    {
      "cell_type": "code",
      "source": [
        "def get_pred(clf, text: str=''):\n",
        "    \"\"\"Относитель удобный интерфейс для вывода \n",
        "    предсказанного класса и его вероятности\"\"\"\n",
        "    inner = [text2vec(text)]\n",
        "    classes = clf.classes_\n",
        "    probs = clf.predict_proba(inner)[0]\n",
        "    pred = classes[np.argmax(probs)]\n",
        "\n",
        "    pie, ax = plt.subplots(figsize=[10, 6])\n",
        "    x = list(map(lambda t: t.capitalize(), classes))\n",
        "    colors = ['#FFC09F','#D3DFB8','#C3ACCE']\n",
        "    percent = 100.*probs\n",
        "    patches, texts = plt.pie(probs, colors=colors, startangle=90, radius=1.2)\n",
        "    labels = ['{0} - {1:1.2f} %'.format(i,j) for i,j in zip(x, percent)]\n",
        "    plt.legend(patches, labels, loc='best', fontsize=14)\n",
        "    plt.title(\"Вероятности типов речи\", fontsize=16, fontweight='bold')\n",
        "    # plt.savefig('pie.png')\n",
        "\n",
        "    return pred.capitalize(), pie"
      ],
      "metadata": {
        "id": "ZgsMWxjciNQr"
      },
      "execution_count": 50,
      "outputs": []
    },
    {
      "cell_type": "code",
      "source": [
        "get_pred(clf, 'Я пришла забрать свою чашку.')"
      ],
      "metadata": {
        "colab": {
          "base_uri": "https://localhost:8080/",
          "height": 392
        },
        "id": "AtgMnfygzi8W",
        "outputId": "4e486e87-e111-451b-f310-270cbc056f7a"
      },
      "execution_count": 51,
      "outputs": [
        {
          "output_type": "execute_result",
          "data": {
            "text/plain": [
              "('Повествование', <Figure size 720x432 with 1 Axes>)"
            ]
          },
          "metadata": {},
          "execution_count": 51
        },
        {
          "output_type": "display_data",
          "data": {
            "text/plain": [
              "<Figure size 720x432 with 1 Axes>"
            ],
            "image/png": "[encoded data removed]"
          },
          "metadata": {}
        }
      ]
    },
    {
      "cell_type": "code",
      "source": [
        "get_pred(clf, 'Деревья стояли голые и печальные.')"
      ],
      "metadata": {
        "colab": {
          "base_uri": "https://localhost:8080/",
          "height": 392
        },
        "id": "ZMCn03crzi_m",
        "outputId": "8791930a-37ed-4146-bbb9-d5d5518105f5"
      },
      "execution_count": 52,
      "outputs": [
        {
          "output_type": "execute_result",
          "data": {
            "text/plain": [
              "('Описание', <Figure size 720x432 with 1 Axes>)"
            ]
          },
          "metadata": {},
          "execution_count": 52
        },
        {
          "output_type": "display_data",
          "data": {
            "text/plain": [
              "<Figure size 720x432 with 1 Axes>"
            ],
            "image/png": "[encoded data removed]"
          },
          "metadata": {}
        }
      ]
    },
    {
      "cell_type": "code",
      "source": [
        "get_pred(clf, 'Наверное, всё было не зря?')"
      ],
      "metadata": {
        "colab": {
          "base_uri": "https://localhost:8080/",
          "height": 392
        },
        "id": "yOPGeWU64o1R",
        "outputId": "9f763fcb-d070-44e0-cec6-14e0077bd282"
      },
      "execution_count": 53,
      "outputs": [
        {
          "output_type": "execute_result",
          "data": {
            "text/plain": [
              "('Рассуждение', <Figure size 720x432 with 1 Axes>)"
            ]
          },
          "metadata": {},
          "execution_count": 53
        },
        {
          "output_type": "display_data",
          "data": {
            "text/plain": [
              "<Figure size 720x432 with 1 Axes>"
            ],
            "image/png": "[encoded data removed]"
          },
          "metadata": {}
        }
      ]
    },
    {
      "cell_type": "code",
      "source": [
        "get_pred(clf, \"\"\"Лицо старой, дореволюционной России определялось, например, в большой степени теми сотнями тысяч церквей и колоколен, \n",
        "которые были расставлены по всем её просторам на возвышенных преимущественно местах и которые определяли силуэт каждого города — \n",
        "от самого большого до самого маленького, а также сотнями монастырей, бесчисленным количеством ветряных и водяных мельниц.\"\"\")"
      ],
      "metadata": {
        "colab": {
          "base_uri": "https://localhost:8080/",
          "height": 392
        },
        "id": "F3YO4tYqqkNN",
        "outputId": "ca4abbde-0dc0-4bb4-c482-f078f18ec98c"
      },
      "execution_count": 54,
      "outputs": [
        {
          "output_type": "execute_result",
          "data": {
            "text/plain": [
              "('Описание', <Figure size 720x432 with 1 Axes>)"
            ]
          },
          "metadata": {},
          "execution_count": 54
        },
        {
          "output_type": "display_data",
          "data": {
            "text/plain": [
              "<Figure size 720x432 with 1 Axes>"
            ],
            "image/png": "[encoded data removed]"
          },
          "metadata": {}
        }
      ]
    }
  ]
}